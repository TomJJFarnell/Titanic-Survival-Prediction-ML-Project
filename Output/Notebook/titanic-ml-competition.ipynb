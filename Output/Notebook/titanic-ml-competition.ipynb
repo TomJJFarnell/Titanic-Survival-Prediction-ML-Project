{
 "cells": [
  {
   "cell_type": "code",
   "execution_count": 1,
   "id": "497ab5b1",
   "metadata": {
    "_cell_guid": "b1076dfc-b9ad-4769-8c92-a6c4dae69d19",
    "_uuid": "8f2839f25d086af736a60e9eeb907d3b93b6e0e5",
    "execution": {
     "iopub.execute_input": "2025-04-16T01:38:28.254036Z",
     "iopub.status.busy": "2025-04-16T01:38:28.253712Z",
     "iopub.status.idle": "2025-04-16T01:38:33.126894Z",
     "shell.execute_reply": "2025-04-16T01:38:33.125988Z"
    },
    "papermill": {
     "duration": 4.885365,
     "end_time": "2025-04-16T01:38:33.128624",
     "exception": false,
     "start_time": "2025-04-16T01:38:28.243259",
     "status": "completed"
    },
    "tags": []
   },
   "outputs": [
    {
     "name": "stdout",
     "output_type": "stream",
     "text": [
      "/kaggle/input/c/titanic/train.csv\n",
      "/kaggle/input/c/titanic/test.csv\n",
      "/kaggle/input/c/titanic/gender_submission.csv\n",
      "/kaggle/input/titanic/train.csv\n",
      "/kaggle/input/titanic/test.csv\n"
     ]
    }
   ],
   "source": [
    "# 📌 Data Handling\n",
    "import pandas as pd\n",
    "import numpy as np\n",
    "\n",
    "# 📊 Visualization\n",
    "import matplotlib.pyplot as plt\n",
    "import seaborn as sns\n",
    "\n",
    "# 📂 File Handling\n",
    "import os\n",
    "for dirname, _, filenames in os.walk('/kaggle/input'):\n",
    "    for filename in filenames:\n",
    "        print(os.path.join(dirname, filename))\n",
    "\n",
    "# 🧠 Preprocessing\n",
    "from sklearn.preprocessing import LabelEncoder\n",
    "\n",
    "# 🤖 Modeling - Scikit-learn\n",
    "from sklearn.ensemble import (\n",
    "    RandomForestClassifier,\n",
    "    HistGradientBoostingClassifier,\n",
    "    StackingClassifier\n",
    ")\n",
    "from sklearn.linear_model import LogisticRegression\n",
    "from sklearn.tree import DecisionTreeClassifier, plot_tree\n",
    "from sklearn.model_selection import train_test_split, GridSearchCV\n",
    "from sklearn.metrics import accuracy_score\n",
    "\n",
    "# 🚀 Modeling - XGBoost\n",
    "from xgboost import XGBClassifier\n"
   ]
  },
  {
   "cell_type": "markdown",
   "id": "6da36ba4",
   "metadata": {
    "papermill": {
     "duration": 0.007609,
     "end_time": "2025-04-16T01:38:33.144840",
     "exception": false,
     "start_time": "2025-04-16T01:38:33.137231",
     "status": "completed"
    },
    "tags": []
   },
   "source": [
    "# 🚢 Titanic Survival Prediction – Ensemble Modeling Approach\n",
    "\n",
    "In this notebook, we tackle the classic Titanic survival prediction problem using a structured and model-driven approach. Rather than relying on a single algorithm, we compare multiple machine learning models and ultimately combine them through ensembling to improve accuracy and generalization.\n",
    "\n",
    "### 🧠 Key Steps in This Notebook:\n",
    "\n",
    "1. **Data Cleaning & Feature Engineering**\n",
    "   - Extract meaningful features such as `Title`, `FamilySize`, `IsAlone`, and `CabinLetter`\n",
    "   - Encode categorical variables using label encoding\n",
    "   - Handle missing values (e.g., imputing `Age` and `Fare` with the mean)\n",
    "\n",
    "2. **Model Training**\n",
    "   We train and evaluate three high-performing tree-based models:\n",
    "   - **Random Forest** – A classic ensemble of decision trees using bagging\n",
    "   - **XGBoost** – A gradient boosting model optimized for speed and performance\n",
    "   - **HistGradientBoosting (HGB)** – A fast, histogram-based gradient boosting algorithm built into scikit-learn\n",
    "\n",
    "3. **Model Ensembling (Stacking)**\n",
    "   After comparing the performance of individual models, we combine them using a **stacking ensemble**:\n",
    "   - The predictions of the base models (Random Forest, XGBoost, and HGB) are fed into a **Logistic Regression** meta-model\n",
    "   - This stacked model learns to leverage the strengths of each base learner to produce a final prediction\n",
    "\n",
    "4. **Final Prediction & Submission**\n",
    "   - We train the ensemble model on the full training dataset\n",
    "   - Predict outcomes on the test set\n",
    "   - Submit results in the required format for the Titanic Kaggle competition\n",
    "   - Current Best: 75% accuracy\n",
    "   - \n",
    "\n",
    "**Whats Next**\n",
    "To improve the accuracy score i have been rearching other approches to the problem and I plan on trying again in a new notebook and spending more time imputing the missing data rather than excluding rows with missing ages and finding a better solution than using the mean. \n",
    "\n",
    "* I will try MICE imputation as it seems more accurate. \n",
    "* I will use One Hot Encoding to simplify converting catagorical data to numeric for the ML models.\n",
    "* I will stick to a single ML model, probably Random Forest\n",
    "\n"
   ]
  },
  {
   "cell_type": "code",
   "execution_count": 2,
   "id": "1c49dc8d",
   "metadata": {
    "execution": {
     "iopub.execute_input": "2025-04-16T01:38:33.162438Z",
     "iopub.status.busy": "2025-04-16T01:38:33.161950Z",
     "iopub.status.idle": "2025-04-16T01:38:33.402066Z",
     "shell.execute_reply": "2025-04-16T01:38:33.401193Z"
    },
    "papermill": {
     "duration": 0.25049,
     "end_time": "2025-04-16T01:38:33.403428",
     "exception": false,
     "start_time": "2025-04-16T01:38:33.152938",
     "status": "completed"
    },
    "tags": []
   },
   "outputs": [
    {
     "name": "stdout",
     "output_type": "stream",
     "text": [
      "Train shape: (891, 12)\n"
     ]
    },
    {
     "data": {
      "text/html": [
       "<div>\n",
       "<style scoped>\n",
       "    .dataframe tbody tr th:only-of-type {\n",
       "        vertical-align: middle;\n",
       "    }\n",
       "\n",
       "    .dataframe tbody tr th {\n",
       "        vertical-align: top;\n",
       "    }\n",
       "\n",
       "    .dataframe thead th {\n",
       "        text-align: right;\n",
       "    }\n",
       "</style>\n",
       "<table border=\"1\" class=\"dataframe\">\n",
       "  <thead>\n",
       "    <tr style=\"text-align: right;\">\n",
       "      <th></th>\n",
       "      <th>PassengerId</th>\n",
       "      <th>Survived</th>\n",
       "      <th>Pclass</th>\n",
       "      <th>Name</th>\n",
       "      <th>Sex</th>\n",
       "      <th>Age</th>\n",
       "      <th>SibSp</th>\n",
       "      <th>Parch</th>\n",
       "      <th>Ticket</th>\n",
       "      <th>Fare</th>\n",
       "      <th>Cabin</th>\n",
       "      <th>Embarked</th>\n",
       "    </tr>\n",
       "  </thead>\n",
       "  <tbody>\n",
       "    <tr>\n",
       "      <th>0</th>\n",
       "      <td>1</td>\n",
       "      <td>0</td>\n",
       "      <td>3</td>\n",
       "      <td>Braund, Mr. Owen Harris</td>\n",
       "      <td>male</td>\n",
       "      <td>22.0</td>\n",
       "      <td>1</td>\n",
       "      <td>0</td>\n",
       "      <td>A/5 21171</td>\n",
       "      <td>7.2500</td>\n",
       "      <td>NaN</td>\n",
       "      <td>S</td>\n",
       "    </tr>\n",
       "    <tr>\n",
       "      <th>1</th>\n",
       "      <td>2</td>\n",
       "      <td>1</td>\n",
       "      <td>1</td>\n",
       "      <td>Cumings, Mrs. John Bradley (Florence Briggs Th...</td>\n",
       "      <td>female</td>\n",
       "      <td>38.0</td>\n",
       "      <td>1</td>\n",
       "      <td>0</td>\n",
       "      <td>PC 17599</td>\n",
       "      <td>71.2833</td>\n",
       "      <td>C85</td>\n",
       "      <td>C</td>\n",
       "    </tr>\n",
       "    <tr>\n",
       "      <th>2</th>\n",
       "      <td>3</td>\n",
       "      <td>1</td>\n",
       "      <td>3</td>\n",
       "      <td>Heikkinen, Miss. Laina</td>\n",
       "      <td>female</td>\n",
       "      <td>26.0</td>\n",
       "      <td>0</td>\n",
       "      <td>0</td>\n",
       "      <td>STON/O2. 3101282</td>\n",
       "      <td>7.9250</td>\n",
       "      <td>NaN</td>\n",
       "      <td>S</td>\n",
       "    </tr>\n",
       "  </tbody>\n",
       "</table>\n",
       "</div>"
      ],
      "text/plain": [
       "   PassengerId  Survived  Pclass  \\\n",
       "0            1         0       3   \n",
       "1            2         1       1   \n",
       "2            3         1       3   \n",
       "\n",
       "                                                Name     Sex   Age  SibSp  \\\n",
       "0                            Braund, Mr. Owen Harris    male  22.0      1   \n",
       "1  Cumings, Mrs. John Bradley (Florence Briggs Th...  female  38.0      1   \n",
       "2                             Heikkinen, Miss. Laina  female  26.0      0   \n",
       "\n",
       "   Parch            Ticket     Fare Cabin Embarked  \n",
       "0      0         A/5 21171   7.2500   NaN        S  \n",
       "1      0          PC 17599  71.2833   C85        C  \n",
       "2      0  STON/O2. 3101282   7.9250   NaN        S  "
      ]
     },
     "execution_count": 2,
     "metadata": {},
     "output_type": "execute_result"
    }
   ],
   "source": [
    "\n",
    "# 📂 Load the Datasets\n",
    "train = pd.read_csv('/kaggle/input/titanic/train.csv')\n",
    "\n",
    "\n",
    "# 🕵️ Step 3: Quick Glance\n",
    "print(\"Train shape:\", train.shape)\n",
    "train.style.set_caption(\"Titanic Dataset Preview\").background_gradient(cmap='Blues')\n",
    "train.head(3)"
   ]
  },
  {
   "cell_type": "code",
   "execution_count": 3,
   "id": "8989144e",
   "metadata": {
    "execution": {
     "iopub.execute_input": "2025-04-16T01:38:33.421377Z",
     "iopub.status.busy": "2025-04-16T01:38:33.420956Z",
     "iopub.status.idle": "2025-04-16T01:38:33.446091Z",
     "shell.execute_reply": "2025-04-16T01:38:33.444983Z"
    },
    "papermill": {
     "duration": 0.035799,
     "end_time": "2025-04-16T01:38:33.447524",
     "exception": false,
     "start_time": "2025-04-16T01:38:33.411725",
     "status": "completed"
    },
    "tags": []
   },
   "outputs": [
    {
     "name": "stdout",
     "output_type": "stream",
     "text": [
      "\n",
      "🧾 TRAIN INFO\n",
      "<class 'pandas.core.frame.DataFrame'>\n",
      "RangeIndex: 891 entries, 0 to 890\n",
      "Data columns (total 12 columns):\n",
      " #   Column       Non-Null Count  Dtype  \n",
      "---  ------       --------------  -----  \n",
      " 0   PassengerId  891 non-null    int64  \n",
      " 1   Survived     891 non-null    int64  \n",
      " 2   Pclass       891 non-null    int64  \n",
      " 3   Name         891 non-null    object \n",
      " 4   Sex          891 non-null    object \n",
      " 5   Age          714 non-null    float64\n",
      " 6   SibSp        891 non-null    int64  \n",
      " 7   Parch        891 non-null    int64  \n",
      " 8   Ticket       891 non-null    object \n",
      " 9   Fare         891 non-null    float64\n",
      " 10  Cabin        204 non-null    object \n",
      " 11  Embarked     889 non-null    object \n",
      "dtypes: float64(2), int64(5), object(5)\n",
      "memory usage: 83.7+ KB\n"
     ]
    }
   ],
   "source": [
    "# 📋 Step 4: Summary Info\n",
    "print(\"\\n🧾 TRAIN INFO\")\n",
    "train.info()"
   ]
  },
  {
   "cell_type": "code",
   "execution_count": 4,
   "id": "2ae7eea8",
   "metadata": {
    "execution": {
     "iopub.execute_input": "2025-04-16T01:38:33.465914Z",
     "iopub.status.busy": "2025-04-16T01:38:33.465587Z",
     "iopub.status.idle": "2025-04-16T01:38:33.472479Z",
     "shell.execute_reply": "2025-04-16T01:38:33.471429Z"
    },
    "papermill": {
     "duration": 0.018228,
     "end_time": "2025-04-16T01:38:33.474115",
     "exception": false,
     "start_time": "2025-04-16T01:38:33.455887",
     "status": "completed"
    },
    "tags": []
   },
   "outputs": [
    {
     "name": "stdout",
     "output_type": "stream",
     "text": [
      "Missing values in training set:\n",
      " PassengerId      0\n",
      "Survived         0\n",
      "Pclass           0\n",
      "Name             0\n",
      "Sex              0\n",
      "Age            177\n",
      "SibSp            0\n",
      "Parch            0\n",
      "Ticket           0\n",
      "Fare             0\n",
      "Cabin          687\n",
      "Embarked         2\n",
      "dtype: int64\n"
     ]
    }
   ],
   "source": [
    "# 🧼 Step 6: Missing Values Check\n",
    "print(\"Missing values in training set:\\n\", train.isnull().sum())\n"
   ]
  },
  {
   "cell_type": "markdown",
   "id": "5933ada0",
   "metadata": {
    "papermill": {
     "duration": 0.009687,
     "end_time": "2025-04-16T01:38:33.492814",
     "exception": false,
     "start_time": "2025-04-16T01:38:33.483127",
     "status": "completed"
    },
    "tags": []
   },
   "source": [
    "there is alot of mising info for age and cabin numbers o we will not use these initialy. "
   ]
  },
  {
   "cell_type": "code",
   "execution_count": 5,
   "id": "d2bb020f",
   "metadata": {
    "execution": {
     "iopub.execute_input": "2025-04-16T01:38:33.510729Z",
     "iopub.status.busy": "2025-04-16T01:38:33.510261Z",
     "iopub.status.idle": "2025-04-16T01:38:33.751330Z",
     "shell.execute_reply": "2025-04-16T01:38:33.750139Z"
    },
    "papermill": {
     "duration": 0.251875,
     "end_time": "2025-04-16T01:38:33.752954",
     "exception": false,
     "start_time": "2025-04-16T01:38:33.501079",
     "status": "completed"
    },
    "tags": []
   },
   "outputs": [
    {
     "data": {
      "image/png": "[encoded data removed]",
      "text/plain": [
       "<Figure size 640x480 with 1 Axes>"
      ]
     },
     "metadata": {},
     "output_type": "display_data"
    }
   ],
   "source": [
    "# 📈 Step 7: Target Variable Distribution\n",
    "sns.countplot(x='Survived', data=train, palette='Set2')\n",
    "plt.title('Distribution of Survival')\n",
    "plt.xticks([0, 1], ['Did Not Survive', 'Survived'])\n",
    "plt.show()"
   ]
  },
  {
   "cell_type": "code",
   "execution_count": 6,
   "id": "7028b3bb",
   "metadata": {
    "execution": {
     "iopub.execute_input": "2025-04-16T01:38:33.772509Z",
     "iopub.status.busy": "2025-04-16T01:38:33.772151Z",
     "iopub.status.idle": "2025-04-16T01:38:34.177830Z",
     "shell.execute_reply": "2025-04-16T01:38:34.176835Z"
    },
    "papermill": {
     "duration": 0.417416,
     "end_time": "2025-04-16T01:38:34.179462",
     "exception": false,
     "start_time": "2025-04-16T01:38:33.762046",
     "status": "completed"
    },
    "tags": []
   },
   "outputs": [
    {
     "data": {
      "image/png": "[encoded data removed]",
      "text/plain": [
       "<Figure size 640x480 with 1 Axes>"
      ]
     },
     "metadata": {},
     "output_type": "display_data"
    },
    {
     "data": {
      "image/png": "[encoded data removed]",
      "text/plain": [
       "<Figure size 640x480 with 1 Axes>"
      ]
     },
     "metadata": {},
     "output_type": "display_data"
    },
    {
     "data": {
      "image/png": "[encoded data removed]",
      "text/plain": [
       "<Figure size 640x480 with 1 Axes>"
      ]
     },
     "metadata": {},
     "output_type": "display_data"
    }
   ],
   "source": [
    "# 👀 Step 8: Categorical Feature Overview\n",
    "cat_features = ['Pclass', 'Sex', 'Embarked']\n",
    "for col in cat_features:\n",
    "    sns.countplot(x=col, data=train)\n",
    "    plt.title(f'Distribution of {col}')\n",
    "    plt.show()"
   ]
  },
  {
   "cell_type": "code",
   "execution_count": 7,
   "id": "3f5b1b6f",
   "metadata": {
    "execution": {
     "iopub.execute_input": "2025-04-16T01:38:34.201087Z",
     "iopub.status.busy": "2025-04-16T01:38:34.200757Z",
     "iopub.status.idle": "2025-04-16T01:38:35.164895Z",
     "shell.execute_reply": "2025-04-16T01:38:35.163821Z"
    },
    "papermill": {
     "duration": 0.976793,
     "end_time": "2025-04-16T01:38:35.166488",
     "exception": false,
     "start_time": "2025-04-16T01:38:34.189695",
     "status": "completed"
    },
    "tags": []
   },
   "outputs": [
    {
     "data": {
      "image/png": "[encoded data removed]",
      "text/plain": [
       "<Figure size 1200x1000 with 6 Axes>"
      ]
     },
     "metadata": {},
     "output_type": "display_data"
    }
   ],
   "source": [
    "# 📉 Step 9: Numerical Feature Histograms (excluding PassengerId and Survived)\n",
    "cols_to_plot = [col for col in train.select_dtypes(include='number').columns if col not in ['PassengerId', 'Survived']]\n",
    "\n",
    "train[cols_to_plot].hist(bins=30, figsize=(12, 10), color='skyblue')\n",
    "plt.suptitle(\"Numerical Feature Distributions (Excluding ID and Target)\", fontsize=16)\n",
    "plt.show()"
   ]
  },
  {
   "cell_type": "markdown",
   "id": "2328ae4f",
   "metadata": {
    "papermill": {
     "duration": 0.011571,
     "end_time": "2025-04-16T01:38:35.190154",
     "exception": false,
     "start_time": "2025-04-16T01:38:35.178583",
     "status": "completed"
    },
    "tags": []
   },
   "source": [
    "Now we have inspected the data have understand it we can start with the analysis. we can drop columns we wont use and convert strings like sex into boolean type 0/1"
   ]
  },
  {
   "cell_type": "code",
   "execution_count": 8,
   "id": "abfeff1f",
   "metadata": {
    "execution": {
     "iopub.execute_input": "2025-04-16T01:38:35.215272Z",
     "iopub.status.busy": "2025-04-16T01:38:35.214933Z",
     "iopub.status.idle": "2025-04-16T01:38:35.231907Z",
     "shell.execute_reply": "2025-04-16T01:38:35.231168Z"
    },
    "papermill": {
     "duration": 0.031152,
     "end_time": "2025-04-16T01:38:35.233367",
     "exception": false,
     "start_time": "2025-04-16T01:38:35.202215",
     "status": "completed"
    },
    "tags": []
   },
   "outputs": [
    {
     "data": {
      "text/html": [
       "<div>\n",
       "<style scoped>\n",
       "    .dataframe tbody tr th:only-of-type {\n",
       "        vertical-align: middle;\n",
       "    }\n",
       "\n",
       "    .dataframe tbody tr th {\n",
       "        vertical-align: top;\n",
       "    }\n",
       "\n",
       "    .dataframe thead th {\n",
       "        text-align: right;\n",
       "    }\n",
       "</style>\n",
       "<table border=\"1\" class=\"dataframe\">\n",
       "  <thead>\n",
       "    <tr style=\"text-align: right;\">\n",
       "      <th></th>\n",
       "      <th>PassengerId</th>\n",
       "      <th>Pclass</th>\n",
       "      <th>Sex</th>\n",
       "      <th>Age</th>\n",
       "      <th>Fare</th>\n",
       "      <th>Embarked</th>\n",
       "    </tr>\n",
       "  </thead>\n",
       "  <tbody>\n",
       "    <tr>\n",
       "      <th>0</th>\n",
       "      <td>1</td>\n",
       "      <td>3</td>\n",
       "      <td>male</td>\n",
       "      <td>22.0</td>\n",
       "      <td>7.2500</td>\n",
       "      <td>S</td>\n",
       "    </tr>\n",
       "    <tr>\n",
       "      <th>1</th>\n",
       "      <td>2</td>\n",
       "      <td>1</td>\n",
       "      <td>female</td>\n",
       "      <td>38.0</td>\n",
       "      <td>71.2833</td>\n",
       "      <td>C</td>\n",
       "    </tr>\n",
       "    <tr>\n",
       "      <th>2</th>\n",
       "      <td>3</td>\n",
       "      <td>3</td>\n",
       "      <td>female</td>\n",
       "      <td>26.0</td>\n",
       "      <td>7.9250</td>\n",
       "      <td>S</td>\n",
       "    </tr>\n",
       "    <tr>\n",
       "      <th>3</th>\n",
       "      <td>4</td>\n",
       "      <td>1</td>\n",
       "      <td>female</td>\n",
       "      <td>35.0</td>\n",
       "      <td>53.1000</td>\n",
       "      <td>S</td>\n",
       "    </tr>\n",
       "    <tr>\n",
       "      <th>4</th>\n",
       "      <td>5</td>\n",
       "      <td>3</td>\n",
       "      <td>male</td>\n",
       "      <td>35.0</td>\n",
       "      <td>8.0500</td>\n",
       "      <td>S</td>\n",
       "    </tr>\n",
       "  </tbody>\n",
       "</table>\n",
       "</div>"
      ],
      "text/plain": [
       "   PassengerId  Pclass     Sex   Age     Fare Embarked\n",
       "0            1       3    male  22.0   7.2500        S\n",
       "1            2       1  female  38.0  71.2833        C\n",
       "2            3       3  female  26.0   7.9250        S\n",
       "3            4       1  female  35.0  53.1000        S\n",
       "4            5       3    male  35.0   8.0500        S"
      ]
     },
     "execution_count": 8,
     "metadata": {},
     "output_type": "execute_result"
    }
   ],
   "source": [
    "# List of columns to keep\n",
    "keep_cols = ['PassengerId', 'Pclass', 'Sex', 'Age', 'Fare', 'Embarked']\n",
    "\n",
    "# Filter the DataFrame\n",
    "train_clean = train[keep_cols]\n",
    "\n",
    "# Map Sex and Embarked to numeric for analysis \n",
    "train['Sex'] = train['Sex'].map({'male': 0, 'female': 1})\n",
    "train['Embarked'] = train['Embarked'].map({'C': 0, 'Q': 1, 'S': 2})\n",
    "\n",
    "# Preview the result\n",
    "train_clean.head()"
   ]
  },
  {
   "cell_type": "markdown",
   "id": "deee7f50",
   "metadata": {
    "papermill": {
     "duration": 0.012182,
     "end_time": "2025-04-16T01:38:35.258256",
     "exception": false,
     "start_time": "2025-04-16T01:38:35.246074",
     "status": "completed"
    },
    "tags": []
   },
   "source": [
    "most of the ML models cant accept data with null values so we need to remove the rows with any nulls in the key features we are keeping"
   ]
  },
  {
   "cell_type": "code",
   "execution_count": 9,
   "id": "1ffba4bd",
   "metadata": {
    "execution": {
     "iopub.execute_input": "2025-04-16T01:38:35.284386Z",
     "iopub.status.busy": "2025-04-16T01:38:35.284068Z",
     "iopub.status.idle": "2025-04-16T01:38:35.292584Z",
     "shell.execute_reply": "2025-04-16T01:38:35.291484Z"
    },
    "papermill": {
     "duration": 0.023593,
     "end_time": "2025-04-16T01:38:35.294436",
     "exception": false,
     "start_time": "2025-04-16T01:38:35.270843",
     "status": "completed"
    },
    "tags": []
   },
   "outputs": [
    {
     "name": "stdout",
     "output_type": "stream",
     "text": [
      "Original shape: (891, 12)\n",
      "After dropping rows with missing required features: (712, 12)\n"
     ]
    }
   ],
   "source": [
    "# Define the features you're keeping\n",
    "features = ['Pclass', 'Sex', 'Age', 'Fare', 'Embarked']\n",
    "\n",
    "# Drop rows with missing values in those columns only\n",
    "train_clean = train.dropna(subset=keep_cols)\n",
    "\n",
    "# Check result\n",
    "print(\"Original shape:\", train.shape)\n",
    "print(\"After dropping rows with missing required features:\", train_clean.shape)"
   ]
  },
  {
   "cell_type": "markdown",
   "id": "d0d55372",
   "metadata": {
    "papermill": {
     "duration": 0.012061,
     "end_time": "2025-04-16T01:38:35.319508",
     "exception": false,
     "start_time": "2025-04-16T01:38:35.307447",
     "status": "completed"
    },
    "tags": []
   },
   "source": [
    "# Random Forest Model"
   ]
  },
  {
   "cell_type": "code",
   "execution_count": 10,
   "id": "68911bfe",
   "metadata": {
    "execution": {
     "iopub.execute_input": "2025-04-16T01:38:35.346150Z",
     "iopub.status.busy": "2025-04-16T01:38:35.345842Z",
     "iopub.status.idle": "2025-04-16T01:38:36.916955Z",
     "shell.execute_reply": "2025-04-16T01:38:36.915931Z"
    },
    "papermill": {
     "duration": 1.588915,
     "end_time": "2025-04-16T01:38:36.921097",
     "exception": false,
     "start_time": "2025-04-16T01:38:35.332182",
     "status": "completed"
    },
    "tags": []
   },
   "outputs": [
    {
     "name": "stdout",
     "output_type": "stream",
     "text": [
      "Validation Accuracy: 0.7762237762237763\n"
     ]
    },
    {
     "data": {
      "image/png": "[encoded data removed]",
      "text/plain": [
       "<Figure size 1400x900 with 1 Axes>"
      ]
     },
     "metadata": {},
     "output_type": "display_data"
    }
   ],
   "source": [
    "## Step 4: Prepare data for modeling\n",
    "X = train_clean[features]\n",
    "y = train_clean['Survived']\n",
    "\n",
    "# Step 5: Train/test split\n",
    "\n",
    "X_train, X_val, y_train, y_val = train_test_split(X, y, test_size=0.2, random_state=42)\n",
    "\n",
    "# Step 6: Fit the model\n",
    "model = RandomForestClassifier(n_estimators=500, random_state=42)\n",
    "model.fit(X_train, y_train)\n",
    "\n",
    "# Step 7: Predict and evaluate\n",
    "y_pred = model.predict(X_val)\n",
    "print(\"Validation Accuracy:\", accuracy_score(y_val, y_pred))\n",
    "\n",
    "# Plot Decision tree model\n",
    "tree_model = DecisionTreeClassifier(max_depth=3, random_state=42)\n",
    "tree_model.fit(X_train, y_train)\n",
    "\n",
    "plt.figure(figsize=(14, 9))  # Wider and taller\n",
    "plot_tree(tree_model, feature_names=features, filled=True, rounded=True, fontsize=12)\n",
    "plt.title(\"Decision Tree (max_depth=3)\", fontsize=16)\n",
    "plt.show()\n",
    "\n",
    "\n"
   ]
  },
  {
   "cell_type": "markdown",
   "id": "b40356c2",
   "metadata": {
    "papermill": {
     "duration": 0.016308,
     "end_time": "2025-04-16T01:38:36.953770",
     "exception": false,
     "start_time": "2025-04-16T01:38:36.937462",
     "status": "completed"
    },
    "tags": []
   },
   "source": [
    "now do grid search feeature engineering to find optimal settings "
   ]
  },
  {
   "cell_type": "code",
   "execution_count": 11,
   "id": "a406eaa7",
   "metadata": {
    "execution": {
     "iopub.execute_input": "2025-04-16T01:38:36.987425Z",
     "iopub.status.busy": "2025-04-16T01:38:36.987083Z",
     "iopub.status.idle": "2025-04-16T01:38:36.991885Z",
     "shell.execute_reply": "2025-04-16T01:38:36.991094Z"
    },
    "papermill": {
     "duration": 0.023242,
     "end_time": "2025-04-16T01:38:36.993342",
     "exception": false,
     "start_time": "2025-04-16T01:38:36.970100",
     "status": "completed"
    },
    "tags": []
   },
   "outputs": [],
   "source": [
    "### 🚫 Skipping this heavy block (GridSearchCV) for now\n",
    "\n",
    "#feature engineering grid to find best combination for max accuracy score\n",
    "\n",
    "\n",
    "param_grid = {\n",
    "    'n_estimators': [100, 200, 500],\n",
    "    'max_depth': [4, 6, 8, 10],\n",
    "    'min_samples_split': [2, 5],\n",
    "    'min_samples_leaf': [1, 2],\n",
    "}\n",
    "\n",
    "# grid = GridSearchCV(RandomForestClassifier(random_state=42), param_grid, cv=5)\n",
    "# grid.fit(X_train, y_train)\n",
    "\n",
    "# print(\"Best Params:\", grid.best_params_)\n",
    "# print(\"Best CV Score:\", grid.best_score_)"
   ]
  },
  {
   "cell_type": "markdown",
   "id": "b848c531",
   "metadata": {
    "papermill": {
     "duration": 0.085495,
     "end_time": "2025-04-16T01:38:37.095019",
     "exception": false,
     "start_time": "2025-04-16T01:38:37.009524",
     "status": "completed"
    },
    "tags": []
   },
   "source": [
    "redoing the random tree analysis using optiised features from the grid search improves accuracy from 77 to 79%"
   ]
  },
  {
   "cell_type": "code",
   "execution_count": 12,
   "id": "de42d627",
   "metadata": {
    "execution": {
     "iopub.execute_input": "2025-04-16T01:38:37.129202Z",
     "iopub.status.busy": "2025-04-16T01:38:37.128880Z",
     "iopub.status.idle": "2025-04-16T01:38:37.306171Z",
     "shell.execute_reply": "2025-04-16T01:38:37.305124Z"
    },
    "papermill": {
     "duration": 0.196594,
     "end_time": "2025-04-16T01:38:37.307814",
     "exception": false,
     "start_time": "2025-04-16T01:38:37.111220",
     "status": "completed"
    },
    "tags": []
   },
   "outputs": [
    {
     "name": "stdout",
     "output_type": "stream",
     "text": [
      "🌲 Random Forest Validation Accuracy: 0.7902\n"
     ]
    }
   ],
   "source": [
    "# Redoing random tree analysis using optimised features  \n",
    "# ✅ Step 1: Define your optimized feature set (example: add FamilySize and Title if you’ve created them)\n",
    "features = ['Pclass', 'Sex', 'Age', 'Fare', 'Embarked']  # Add engineered features here if available\n",
    "\n",
    "# ✅ Step 2: Prepare training data\n",
    "X = train_clean[features]\n",
    "y = train_clean['Survived']\n",
    "\n",
    "# ✅ Step 3: Train/Validation Split\n",
    "X_train, X_val, y_train, y_val = train_test_split(X, y, test_size=0.2, random_state=42)\n",
    "\n",
    "# ✅ Step 4: Train Optimized Random Forest Model\n",
    "model = RandomForestClassifier(\n",
    "    n_estimators=100,\n",
    "    max_depth=8,\n",
    "    min_samples_split=5,\n",
    "    min_samples_leaf=2,\n",
    "    random_state=42\n",
    ")\n",
    "model.fit(X_train, y_train)\n",
    "\n",
    "# ✅ Step 5: Evaluate Accuracy\n",
    "y_pred = model.predict(X_val)\n",
    "print(\"🌲 Random Forest Validation Accuracy:\", round(accuracy_score(y_val, y_pred), 4))"
   ]
  },
  {
   "cell_type": "markdown",
   "id": "f2a64504",
   "metadata": {
    "papermill": {
     "duration": 0.015831,
     "end_time": "2025-04-16T01:38:37.339773",
     "exception": false,
     "start_time": "2025-04-16T01:38:37.323942",
     "status": "completed"
    },
    "tags": []
   },
   "source": [
    "# XGBoost Model\n",
    "initial running of xgbclassifier model with default settings gives 80% accuracy, already improved over random forest. "
   ]
  },
  {
   "cell_type": "code",
   "execution_count": 13,
   "id": "143a43fb",
   "metadata": {
    "execution": {
     "iopub.execute_input": "2025-04-16T01:38:37.373528Z",
     "iopub.status.busy": "2025-04-16T01:38:37.373168Z",
     "iopub.status.idle": "2025-04-16T01:38:37.647114Z",
     "shell.execute_reply": "2025-04-16T01:38:37.646185Z"
    },
    "papermill": {
     "duration": 0.292681,
     "end_time": "2025-04-16T01:38:37.648480",
     "exception": false,
     "start_time": "2025-04-16T01:38:37.355799",
     "status": "completed"
    },
    "tags": []
   },
   "outputs": [
    {
     "name": "stdout",
     "output_type": "stream",
     "text": [
      "📊 XGBoost Validation Accuracy: 0.8042\n"
     ]
    },
    {
     "name": "stderr",
     "output_type": "stream",
     "text": [
      "/tmp/ipykernel_13/2063082079.py:37: UserWarning: Glyph 129504 (\\N{BRAIN}) missing from current font.\n",
      "  plt.tight_layout()\n",
      "/usr/local/lib/python3.11/dist-packages/IPython/core/pylabtools.py:151: UserWarning: Glyph 129504 (\\N{BRAIN}) missing from current font.\n",
      "  fig.canvas.print_figure(bytes_io, **kw)\n"
     ]
    },
    {
     "data": {
      "image/png": "[encoded data removed]",
      "text/plain": [
       "<Figure size 800x500 with 1 Axes>"
      ]
     },
     "metadata": {},
     "output_type": "display_data"
    }
   ],
   "source": [
    "# Final optimized feature list — add more engineered features here if you have them\n",
    "features = ['Pclass', 'Sex', 'Age', 'Fare', 'Embarked']  # Add Title, FamilySize, IsAlone if created\n",
    "\n",
    "# X and y from clean data\n",
    "X = train_clean[features]\n",
    "y = train_clean['Survived']\n",
    "\n",
    "# Train/Validation split\n",
    "X_train, X_val, y_train, y_val = train_test_split(X, y, test_size=0.2, random_state=42)\n",
    "\n",
    "# Build and fit the model\n",
    "xgb_model = XGBClassifier(\n",
    "    n_estimators=100,\n",
    "    max_depth=4,\n",
    "    learning_rate=0.1,\n",
    "    subsample=0.8,\n",
    "    colsample_bytree=0.8,\n",
    "    use_label_encoder=False,\n",
    "    eval_metric='logloss',\n",
    "    random_state=42\n",
    ")\n",
    "\n",
    "xgb_model.fit(X_train, y_train)\n",
    "\n",
    "# Predict on validation set\n",
    "y_pred = xgb_model.predict(X_val)\n",
    "print(\"📊 XGBoost Validation Accuracy:\", round(accuracy_score(y_val, y_pred), 4))\n",
    "\n",
    "# Get feature importance\n",
    "importance_df = pd.Series(xgb_model.feature_importances_, index=features).sort_values(ascending=True)\n",
    "\n",
    "# Plot\n",
    "plt.figure(figsize=(8, 5))\n",
    "sns.barplot(x=importance_df, y=importance_df.index, palette='Blues_d')\n",
    "plt.title(\"🧠 Feature Importance (XGBoost)\")\n",
    "plt.xlabel(\"Importance Score\")\n",
    "plt.tight_layout()\n",
    "plt.show()"
   ]
  },
  {
   "cell_type": "markdown",
   "id": "8a948ef4",
   "metadata": {
    "papermill": {
     "duration": 0.016204,
     "end_time": "2025-04-16T01:38:37.681416",
     "exception": false,
     "start_time": "2025-04-16T01:38:37.665212",
     "status": "completed"
    },
    "tags": []
   },
   "source": [
    "feature importance score shows that being a woman is by far the largest predictor of survival with being 1st class the second biggest predictor. "
   ]
  },
  {
   "cell_type": "markdown",
   "id": "11ff2625",
   "metadata": {
    "papermill": {
     "duration": 0.016263,
     "end_time": "2025-04-16T01:38:37.714086",
     "exception": false,
     "start_time": "2025-04-16T01:38:37.697823",
     "status": "completed"
    },
    "tags": []
   },
   "source": [
    "Grid Search feature tuning of XGBoost to find optimised features "
   ]
  },
  {
   "cell_type": "code",
   "execution_count": 14,
   "id": "c92c7a8b",
   "metadata": {
    "execution": {
     "iopub.execute_input": "2025-04-16T01:38:37.748381Z",
     "iopub.status.busy": "2025-04-16T01:38:37.748052Z",
     "iopub.status.idle": "2025-04-16T01:38:37.752979Z",
     "shell.execute_reply": "2025-04-16T01:38:37.752207Z"
    },
    "papermill": {
     "duration": 0.023701,
     "end_time": "2025-04-16T01:38:37.754313",
     "exception": false,
     "start_time": "2025-04-16T01:38:37.730612",
     "status": "completed"
    },
    "tags": []
   },
   "outputs": [],
   "source": [
    "### 🚫 Skipping this heavy block (GridSearchCV) for now\n",
    "\n",
    "param_grid = {\n",
    "    'n_estimators': [100, 200, 300, 500],                \n",
    "    'max_depth': [3, 4, 5, 6],                          \n",
    "    'learning_rate': [0.01, 0.05, 0.1, 0.2],             \n",
    "    'subsample': [0.6, 0.8, 1.0],                          \n",
    "    'colsample_bytree': [0.6, 0.8, 1.0]                 \n",
    "}\n",
    "#xgb = XGBClassifier(use_label_encoder=False, eval_metric='logloss', random_state=42)\n",
    "\n",
    "#grid = GridSearchCV(\n",
    "#    estimator=xgb,\n",
    "#    param_grid=param_grid,\n",
    "#    scoring='accuracy',\n",
    "#    cv=5,\n",
    "#    verbose=1,\n",
    "#    n_jobs=-1\n",
    "#)\n",
    "#grid.fit(X_train, y_train)\n",
    "\n",
    "#print(\"✅ Best Parameters:\", grid.best_params_)\n",
    "#print(\"🏆 Best Cross-Validation Accuracy:\", round(grid.best_score_, 4))"
   ]
  },
  {
   "cell_type": "markdown",
   "id": "32046220",
   "metadata": {
    "papermill": {
     "duration": 0.017022,
     "end_time": "2025-04-16T01:38:37.788951",
     "exception": false,
     "start_time": "2025-04-16T01:38:37.771929",
     "status": "completed"
    },
    "tags": []
   },
   "source": [
    "using the optimised features from grid search rerun xgboost mdoel gives 81% accuracy "
   ]
  },
  {
   "cell_type": "code",
   "execution_count": 15,
   "id": "01b8725d",
   "metadata": {
    "execution": {
     "iopub.execute_input": "2025-04-16T01:38:37.825324Z",
     "iopub.status.busy": "2025-04-16T01:38:37.825034Z",
     "iopub.status.idle": "2025-04-16T01:38:38.082341Z",
     "shell.execute_reply": "2025-04-16T01:38:38.081542Z"
    },
    "papermill": {
     "duration": 0.276998,
     "end_time": "2025-04-16T01:38:38.084164",
     "exception": false,
     "start_time": "2025-04-16T01:38:37.807166",
     "status": "completed"
    },
    "tags": []
   },
   "outputs": [
    {
     "name": "stdout",
     "output_type": "stream",
     "text": [
      "📊 XGBoost Validation Accuracy: 0.8112\n"
     ]
    }
   ],
   "source": [
    "# Final optimized feature list — add more engineered features here if you have them\n",
    "features = ['Pclass', 'Sex', 'Age', 'Fare', 'Embarked']  # Add Title, FamilySize, IsAlone if created\n",
    "\n",
    "# X and y from clean data\n",
    "X = train_clean[features]\n",
    "y = train_clean['Survived']\n",
    "\n",
    "# Train/Validation split\n",
    "X_train, X_val, y_train, y_val = train_test_split(X, y, test_size=0.2, random_state=42)\n",
    "\n",
    "# Build and fit the model\n",
    "xgb_model = XGBClassifier(\n",
    "    n_estimators=500,\n",
    "    max_depth=6,\n",
    "    learning_rate=0.01,\n",
    "    subsample=1.0,\n",
    "    colsample_bytree=1.0,\n",
    "    use_label_encoder=False,\n",
    "    eval_metric='logloss',\n",
    "    random_state=42\n",
    ")\n",
    "\n",
    "xgb_model.fit(X_train, y_train)\n",
    "\n",
    "# Predict on validation set\n",
    "y_pred = xgb_model.predict(X_val)\n",
    "print(\"📊 XGBoost Validation Accuracy:\", round(accuracy_score(y_val, y_pred), 4))\n"
   ]
  },
  {
   "cell_type": "markdown",
   "id": "2e4fb695",
   "metadata": {
    "papermill": {
     "duration": 0.016267,
     "end_time": "2025-04-16T01:38:38.119692",
     "exception": false,
     "start_time": "2025-04-16T01:38:38.103425",
     "status": "completed"
    },
    "tags": []
   },
   "source": [
    "XGBClassifier (Extreme Gradient Boosting)\n",
    "\t•\t✅ GradientBoostingClassifier\n",
    "\t•\t✅ LogisticRegression (a solid baseline)\n",
    "\t•\t✅ HistGradientBoostingClassifier (handles NaNs"
   ]
  },
  {
   "cell_type": "markdown",
   "id": "28435c89",
   "metadata": {
    "papermill": {
     "duration": 0.016836,
     "end_time": "2025-04-16T01:38:38.153092",
     "exception": false,
     "start_time": "2025-04-16T01:38:38.136256",
     "status": "completed"
    },
    "tags": []
   },
   "source": [
    "# HistGradientBoostingClassifier \n",
    "third model is third model is HistGradientBoostingClassifier.  This model can handel nulls so we can add back in some of the features with incomplete datasets like cabin number or age etc. "
   ]
  },
  {
   "cell_type": "code",
   "execution_count": 16,
   "id": "17be9b81",
   "metadata": {
    "execution": {
     "iopub.execute_input": "2025-04-16T01:38:38.188905Z",
     "iopub.status.busy": "2025-04-16T01:38:38.188574Z",
     "iopub.status.idle": "2025-04-16T01:38:38.978180Z",
     "shell.execute_reply": "2025-04-16T01:38:38.977103Z"
    },
    "papermill": {
     "duration": 0.810185,
     "end_time": "2025-04-16T01:38:38.980159",
     "exception": false,
     "start_time": "2025-04-16T01:38:38.169974",
     "status": "completed"
    },
    "tags": []
   },
   "outputs": [
    {
     "name": "stdout",
     "output_type": "stream",
     "text": [
      "📈 HistGradientBoosting Accuracy: 0.7972\n"
     ]
    }
   ],
   "source": [
    "hgb_model = HistGradientBoostingClassifier(\n",
    "    learning_rate=0.01,\n",
    "    max_depth=6,\n",
    "    max_iter=500,          # Equivalent to n_estimators\n",
    "    max_leaf_nodes=None,   \n",
    "    l2_regularization=0.0, \n",
    "    early_stopping=True,\n",
    "    random_state=42\n",
    ")\n",
    "hgb_model.fit(X_train, y_train)\n",
    "y_pred = hgb_model.predict(X_val)\n",
    "\n",
    "\n",
    "print(\"📈 HistGradientBoosting Accuracy:\", round(accuracy_score(y_val, y_pred), 4))"
   ]
  },
  {
   "cell_type": "markdown",
   "id": "428cd2c6",
   "metadata": {
    "papermill": {
     "duration": 0.016497,
     "end_time": "2025-04-16T01:38:39.016363",
     "exception": false,
     "start_time": "2025-04-16T01:38:38.999866",
     "status": "completed"
    },
    "tags": []
   },
   "source": [
    "starting at 79% acccuracy we then do grid search again to optimise featutre settings "
   ]
  },
  {
   "cell_type": "code",
   "execution_count": 17,
   "id": "8ada8e15",
   "metadata": {
    "execution": {
     "iopub.execute_input": "2025-04-16T01:38:39.051019Z",
     "iopub.status.busy": "2025-04-16T01:38:39.050696Z",
     "iopub.status.idle": "2025-04-16T01:38:39.056326Z",
     "shell.execute_reply": "2025-04-16T01:38:39.055339Z"
    },
    "papermill": {
     "duration": 0.025012,
     "end_time": "2025-04-16T01:38:39.058010",
     "exception": false,
     "start_time": "2025-04-16T01:38:39.032998",
     "status": "completed"
    },
    "tags": []
   },
   "outputs": [],
   "source": [
    "### 🚫 Skipping this heavy block (GridSearchCV) for now\n",
    "\n",
    "param_grid = {\n",
    "    'learning_rate': [0.01, 0.05, 0.1],\n",
    "    'max_depth': [4, 6, 8],\n",
    "    'max_iter': [100, 300, 500],\n",
    "    'l2_regularization': [0.0, 1.0, 5.0],\n",
    "    'early_stopping': [False]  # Disable early stopping during grid search for consistency\n",
    "}\n",
    "#hgb = HistGradientBoostingClassifier(random_state=42)\n",
    "\n",
    "#grid = GridSearchCV(\n",
    "#    estimator=hgb,\n",
    "#    param_grid=param_grid,\n",
    "#    cv=5,\n",
    "#    scoring='accuracy',\n",
    "#    verbose=1,\n",
    "#    n_jobs=-1\n",
    "#)\n",
    "\n",
    "#grid.fit(X_train, y_train)\n",
    "#print(\"✅ Best Parameters:\", grid.best_params_)\n",
    "#print(\"🏆 Best Cross-Validation Accuracy:\", round(grid.best_score_, 4))\n"
   ]
  },
  {
   "cell_type": "code",
   "execution_count": 18,
   "id": "902cfd68",
   "metadata": {
    "execution": {
     "iopub.execute_input": "2025-04-16T01:38:39.094876Z",
     "iopub.status.busy": "2025-04-16T01:38:39.093743Z",
     "iopub.status.idle": "2025-04-16T01:38:39.685437Z",
     "shell.execute_reply": "2025-04-16T01:38:39.684724Z"
    },
    "papermill": {
     "duration": 0.612129,
     "end_time": "2025-04-16T01:38:39.687478",
     "exception": false,
     "start_time": "2025-04-16T01:38:39.075349",
     "status": "completed"
    },
    "tags": []
   },
   "outputs": [
    {
     "name": "stdout",
     "output_type": "stream",
     "text": [
      "📈 HistGradientBoosting Accuracy: 0.8182\n"
     ]
    }
   ],
   "source": [
    "# Final optimized feature list (same as XGBoost)\n",
    "features = ['Pclass', 'Sex', 'Age', 'Fare', 'Embarked']\n",
    "\n",
    "# Split the cleaned dataset\n",
    "X = train_clean[features]\n",
    "y = train_clean['Survived']\n",
    "\n",
    "X_train, X_val, y_train, y_val = train_test_split(X, y, test_size=0.2, random_state=42)\n",
    "\n",
    "# Build and fit the optimized HGB model\n",
    "hgb_model = HistGradientBoostingClassifier(\n",
    "    learning_rate=0.05,\n",
    "    max_depth=8,\n",
    "    max_iter=300,\n",
    "    l2_regularization=5.0,\n",
    "    early_stopping=False,\n",
    "    random_state=42\n",
    ")\n",
    "\n",
    "hgb_model.fit(X_train, y_train)\n",
    "\n",
    "# Predict on validation set\n",
    "y_pred_hgb = hgb_model.predict(X_val)\n",
    "print(\"📈 HistGradientBoosting Accuracy:\", round(accuracy_score(y_val, y_pred_hgb), 4))"
   ]
  },
  {
   "cell_type": "markdown",
   "id": "71bf9fb5",
   "metadata": {
    "papermill": {
     "duration": 0.016814,
     "end_time": "2025-04-16T01:38:39.723681",
     "exception": false,
     "start_time": "2025-04-16T01:38:39.706867",
     "status": "completed"
    },
    "tags": []
   },
   "source": [
    "with optimised featues it goes to 81.8% accuracy "
   ]
  },
  {
   "cell_type": "markdown",
   "id": "9ffcdfda",
   "metadata": {
    "papermill": {
     "duration": 0.016658,
     "end_time": "2025-04-16T01:38:39.757832",
     "exception": false,
     "start_time": "2025-04-16T01:38:39.741174",
     "status": "completed"
    },
    "tags": []
   },
   "source": [
    "improve model by adding in some enginerred features like title extracted from name column, if they are alone based on the sibling/spouse column etc  "
   ]
  },
  {
   "cell_type": "code",
   "execution_count": 19,
   "id": "72a5ba41",
   "metadata": {
    "execution": {
     "iopub.execute_input": "2025-04-16T01:38:39.792718Z",
     "iopub.status.busy": "2025-04-16T01:38:39.792421Z",
     "iopub.status.idle": "2025-04-16T01:38:39.818871Z",
     "shell.execute_reply": "2025-04-16T01:38:39.817934Z"
    },
    "papermill": {
     "duration": 0.045988,
     "end_time": "2025-04-16T01:38:39.820651",
     "exception": false,
     "start_time": "2025-04-16T01:38:39.774663",
     "status": "completed"
    },
    "tags": []
   },
   "outputs": [
    {
     "data": {
      "text/html": [
       "<div>\n",
       "<style scoped>\n",
       "    .dataframe tbody tr th:only-of-type {\n",
       "        vertical-align: middle;\n",
       "    }\n",
       "\n",
       "    .dataframe tbody tr th {\n",
       "        vertical-align: top;\n",
       "    }\n",
       "\n",
       "    .dataframe thead th {\n",
       "        text-align: right;\n",
       "    }\n",
       "</style>\n",
       "<table border=\"1\" class=\"dataframe\">\n",
       "  <thead>\n",
       "    <tr style=\"text-align: right;\">\n",
       "      <th></th>\n",
       "      <th>PassengerId</th>\n",
       "      <th>Survived</th>\n",
       "      <th>Pclass</th>\n",
       "      <th>Name</th>\n",
       "      <th>Sex</th>\n",
       "      <th>Age</th>\n",
       "      <th>SibSp</th>\n",
       "      <th>Parch</th>\n",
       "      <th>Ticket</th>\n",
       "      <th>Fare</th>\n",
       "      <th>Cabin</th>\n",
       "      <th>Embarked</th>\n",
       "      <th>Title</th>\n",
       "      <th>FamilySize</th>\n",
       "      <th>IsAlone</th>\n",
       "      <th>CabinLetter</th>\n",
       "    </tr>\n",
       "  </thead>\n",
       "  <tbody>\n",
       "    <tr>\n",
       "      <th>0</th>\n",
       "      <td>1</td>\n",
       "      <td>0</td>\n",
       "      <td>3</td>\n",
       "      <td>Braund, Mr. Owen Harris</td>\n",
       "      <td>0</td>\n",
       "      <td>22.0</td>\n",
       "      <td>1</td>\n",
       "      <td>0</td>\n",
       "      <td>A/5 21171</td>\n",
       "      <td>7.2500</td>\n",
       "      <td>NaN</td>\n",
       "      <td>2.0</td>\n",
       "      <td>2</td>\n",
       "      <td>2</td>\n",
       "      <td>0</td>\n",
       "      <td>8</td>\n",
       "    </tr>\n",
       "    <tr>\n",
       "      <th>1</th>\n",
       "      <td>2</td>\n",
       "      <td>1</td>\n",
       "      <td>1</td>\n",
       "      <td>Cumings, Mrs. John Bradley (Florence Briggs Th...</td>\n",
       "      <td>1</td>\n",
       "      <td>38.0</td>\n",
       "      <td>1</td>\n",
       "      <td>0</td>\n",
       "      <td>PC 17599</td>\n",
       "      <td>71.2833</td>\n",
       "      <td>C85</td>\n",
       "      <td>0.0</td>\n",
       "      <td>3</td>\n",
       "      <td>2</td>\n",
       "      <td>0</td>\n",
       "      <td>2</td>\n",
       "    </tr>\n",
       "    <tr>\n",
       "      <th>2</th>\n",
       "      <td>3</td>\n",
       "      <td>1</td>\n",
       "      <td>3</td>\n",
       "      <td>Heikkinen, Miss. Laina</td>\n",
       "      <td>1</td>\n",
       "      <td>26.0</td>\n",
       "      <td>0</td>\n",
       "      <td>0</td>\n",
       "      <td>STON/O2. 3101282</td>\n",
       "      <td>7.9250</td>\n",
       "      <td>NaN</td>\n",
       "      <td>2.0</td>\n",
       "      <td>1</td>\n",
       "      <td>1</td>\n",
       "      <td>1</td>\n",
       "      <td>8</td>\n",
       "    </tr>\n",
       "  </tbody>\n",
       "</table>\n",
       "</div>"
      ],
      "text/plain": [
       "   PassengerId  Survived  Pclass  \\\n",
       "0            1         0       3   \n",
       "1            2         1       1   \n",
       "2            3         1       3   \n",
       "\n",
       "                                                Name  Sex   Age  SibSp  Parch  \\\n",
       "0                            Braund, Mr. Owen Harris    0  22.0      1      0   \n",
       "1  Cumings, Mrs. John Bradley (Florence Briggs Th...    1  38.0      1      0   \n",
       "2                             Heikkinen, Miss. Laina    1  26.0      0      0   \n",
       "\n",
       "             Ticket     Fare Cabin  Embarked  Title  FamilySize  IsAlone  \\\n",
       "0         A/5 21171   7.2500   NaN       2.0      2           2        0   \n",
       "1          PC 17599  71.2833   C85       0.0      3           2        0   \n",
       "2  STON/O2. 3101282   7.9250   NaN       2.0      1           1        1   \n",
       "\n",
       "   CabinLetter  \n",
       "0            8  \n",
       "1            2  \n",
       "2            8  "
      ]
     },
     "execution_count": 19,
     "metadata": {},
     "output_type": "execute_result"
    }
   ],
   "source": [
    "#  Step 1: Copy original DataFrame\n",
    "train_fe = train.copy()\n",
    "\n",
    "# Step 1: Extract Title\n",
    "train_fe['Title'] = train_fe['Name'].str.extract(' ([A-Za-z]+)\\.', expand=False)\n",
    "\n",
    "# Step 2: Simplify rare titles\n",
    "train_fe['Title'] = train_fe['Title'].replace(\n",
    "    ['Lady', 'Countess', 'Capt', 'Col', 'Don', 'Dr', 'Major', 'Rev',\n",
    "     'Sir', 'Jonkheer', 'Dona'], 'Rare'\n",
    ")\n",
    "train_fe['Title'] = train_fe['Title'].replace({'Mlle': 'Miss', 'Ms': 'Miss', 'Mme': 'Mrs'})\n",
    "\n",
    "# Step 3: Convert Title to numeric labels\n",
    "le = LabelEncoder()\n",
    "train_fe['Title'] = le.fit_transform(train_fe['Title'].astype(str))\n",
    "\n",
    "#  Step 2.5: Convert to CategoricalDtype\n",
    "# train_fe['Title'] = train_fe['Title'].astype('category')\n",
    "\n",
    "\n",
    "#  Step 3: Create FamilySize and IsAlone\n",
    "train_fe['FamilySize'] = train_fe['SibSp'] + train_fe['Parch'] + 1\n",
    "train_fe['IsAlone'] = (train_fe['FamilySize'] == 1).astype(int)\n",
    "\n",
    "# Step 4: Extract Cabin Letter\n",
    "train_fe['CabinLetter'] = train_fe['Cabin'].fillna('U').astype(str).str[0]\n",
    "train_fe['CabinLetter'] = train_fe['CabinLetter'].astype('category')\n",
    "# Step 3: Convert Title to numeric labels\n",
    "le = LabelEncoder()\n",
    "train_fe['CabinLetter'] = le.fit_transform(train_fe['CabinLetter'].astype(str))\n",
    "\n",
    "train_fe.head(3)\n"
   ]
  },
  {
   "cell_type": "code",
   "execution_count": 20,
   "id": "a61bb856",
   "metadata": {
    "execution": {
     "iopub.execute_input": "2025-04-16T01:38:39.856030Z",
     "iopub.status.busy": "2025-04-16T01:38:39.855729Z",
     "iopub.status.idle": "2025-04-16T01:38:40.558799Z",
     "shell.execute_reply": "2025-04-16T01:38:40.557945Z"
    },
    "papermill": {
     "duration": 0.723221,
     "end_time": "2025-04-16T01:38:40.561322",
     "exception": false,
     "start_time": "2025-04-16T01:38:39.838101",
     "status": "completed"
    },
    "tags": []
   },
   "outputs": [
    {
     "name": "stdout",
     "output_type": "stream",
     "text": [
      "📈 HistGradientBoosting Accuracy: 0.8324\n"
     ]
    }
   ],
   "source": [
    "# Final optimized feature list (same as XGBoost)\n",
    "features = [\n",
    "    'Pclass',\n",
    "    'Sex',\n",
    "    'Age',\n",
    "    'Fare',\n",
    "    'Embarked',\n",
    "    'Title',       # from Name\n",
    "    'FamilySize',  # from SibSp + Parch\n",
    "    \"IsAlone\",     # from family size\n",
    "    'CabinLetter'  # from Cabin\n",
    "]\n",
    "# Split the cleaned dataset\n",
    "X = train_fe[features]\n",
    "y = train_fe['Survived']\n",
    "\n",
    "X_train, X_val, y_train, y_val = train_test_split(X, y, test_size=0.2, random_state=42)\n",
    "\n",
    "# Build and fit the optimized HGB model\n",
    "hgb_model = HistGradientBoostingClassifier(\n",
    "    learning_rate=0.05,\n",
    "    max_depth=8,\n",
    "    max_iter=300,\n",
    "    l2_regularization=5.0,\n",
    "    early_stopping=False,\n",
    "    random_state=42\n",
    ")\n",
    "\n",
    "hgb_model.fit(X_train, y_train)\n",
    "\n",
    "# Predict on validation set\n",
    "y_pred_hgb = hgb_model.predict(X_val)\n",
    "print(\"📈 HistGradientBoosting Accuracy:\", round(accuracy_score(y_val, y_pred_hgb), 4))"
   ]
  },
  {
   "cell_type": "markdown",
   "id": "aa9cafdb",
   "metadata": {
    "papermill": {
     "duration": 0.015535,
     "end_time": "2025-04-16T01:38:40.595288",
     "exception": false,
     "start_time": "2025-04-16T01:38:40.579753",
     "status": "completed"
    },
    "tags": []
   },
   "source": [
    "redo the grid search as adding in these new features may effect the best optimisation. "
   ]
  },
  {
   "cell_type": "code",
   "execution_count": 21,
   "id": "aa56f0d3",
   "metadata": {
    "execution": {
     "iopub.execute_input": "2025-04-16T01:38:40.629530Z",
     "iopub.status.busy": "2025-04-16T01:38:40.628746Z",
     "iopub.status.idle": "2025-04-16T01:38:40.633455Z",
     "shell.execute_reply": "2025-04-16T01:38:40.632672Z"
    },
    "papermill": {
     "duration": 0.023348,
     "end_time": "2025-04-16T01:38:40.634941",
     "exception": false,
     "start_time": "2025-04-16T01:38:40.611593",
     "status": "completed"
    },
    "tags": []
   },
   "outputs": [],
   "source": [
    "### 🚫 Skipping this heavy block (GridSearchCV) for now\n",
    "\n",
    "#param_grid = {\n",
    "#   'learning_rate': [0.01, 0.05, 0.1,],\n",
    "#    'max_depth': [, 4, 6, 8],\n",
    "#    'max_iter': [100, 300, 500],\n",
    "#    'l2_regularization': [0.0, 1.0, 5.0],\n",
    "#    'early_stopping': [False]  # Disable early stopping during grid search for consistency\n",
    "#}\n",
    "#hgb = HistGradientBoostingClassifier(random_state=42)\n",
    "\n",
    "#grid = GridSearchCV(\n",
    "#    estimator=hgb,\n",
    "#    param_grid=param_grid,\n",
    "#   cv=5,\n",
    "#    scoring='accuracy',\n",
    "#   verbose=1,\n",
    "#   n_jobs=-1\n",
    "#)\n",
    "\n",
    "#grid.fit(X_train, y_train)\n",
    "#print(\"✅ Best Parameters:\", grid.best_params_)\n",
    "#print(\"🏆 Best Cross-Validation Accuracy:\", round(grid.best_score_, 4))\n"
   ]
  },
  {
   "cell_type": "code",
   "execution_count": 22,
   "id": "2227ab45",
   "metadata": {
    "execution": {
     "iopub.execute_input": "2025-04-16T01:38:40.668462Z",
     "iopub.status.busy": "2025-04-16T01:38:40.668120Z",
     "iopub.status.idle": "2025-04-16T01:38:41.045076Z",
     "shell.execute_reply": "2025-04-16T01:38:41.044435Z"
    },
    "papermill": {
     "duration": 0.397642,
     "end_time": "2025-04-16T01:38:41.048617",
     "exception": false,
     "start_time": "2025-04-16T01:38:40.650975",
     "status": "completed"
    },
    "tags": []
   },
   "outputs": [
    {
     "name": "stdout",
     "output_type": "stream",
     "text": [
      "📈 HistGradientBoosting Accuracy: 0.8212\n"
     ]
    }
   ],
   "source": [
    "# Final optimized feature list (same as XGBoost)\n",
    "features = [\n",
    "    'Pclass',\n",
    "    'Sex',\n",
    "    'Age',\n",
    "    'Fare',\n",
    "    'Embarked',\n",
    "    'Title',       # from Name\n",
    "    'FamilySize',  # from SibSp + Parch\n",
    "    \"IsAlone\",     # from family size\n",
    "    'CabinLetter'  # from Cabin\n",
    "]\n",
    "# Split the cleaned dataset\n",
    "X = train_fe[features]\n",
    "y = train_fe['Survived']\n",
    "\n",
    "X_train, X_val, y_train, y_val = train_test_split(X, y, test_size=0.2, random_state=42)\n",
    "\n",
    "# Build and fit the optimized HGB model\n",
    "hgb_model = HistGradientBoostingClassifier(\n",
    "    learning_rate=0.1,\n",
    "    max_depth=4,\n",
    "    max_iter=300,\n",
    "    l2_regularization=1.0,\n",
    "    early_stopping=False,\n",
    "    random_state=42\n",
    ")\n",
    "\n",
    "hgb_model.fit(X_train, y_train)\n",
    "\n",
    "# Predict on validation set\n",
    "y_pred_hgb = hgb_model.predict(X_val)\n",
    "print(\"📈 HistGradientBoosting Accuracy:\", round(accuracy_score(y_val, y_pred_hgb), 4))"
   ]
  },
  {
   "cell_type": "markdown",
   "id": "fd9ada88",
   "metadata": {
    "papermill": {
     "duration": 0.015878,
     "end_time": "2025-04-16T01:38:41.082871",
     "exception": false,
     "start_time": "2025-04-16T01:38:41.066993",
     "status": "completed"
    },
    "tags": []
   },
   "source": [
    "this is lower than the previos optimisations so i will not use it. "
   ]
  },
  {
   "cell_type": "markdown",
   "id": "11a9eab2",
   "metadata": {
    "papermill": {
     "duration": 0.016253,
     "end_time": "2025-04-16T01:38:41.115830",
     "exception": false,
     "start_time": "2025-04-16T01:38:41.099577",
     "status": "completed"
    },
    "tags": []
   },
   "source": [
    "the final thing we can do to improve accuracy is conbine the 3 modele we have tried as an ensemble (stack) where they run parralel and the results are determuned by voting. "
   ]
  },
  {
   "cell_type": "code",
   "execution_count": 23,
   "id": "a5af712a",
   "metadata": {
    "execution": {
     "iopub.execute_input": "2025-04-16T01:38:41.149187Z",
     "iopub.status.busy": "2025-04-16T01:38:41.148858Z",
     "iopub.status.idle": "2025-04-16T01:38:41.161372Z",
     "shell.execute_reply": "2025-04-16T01:38:41.160459Z"
    },
    "papermill": {
     "duration": 0.031085,
     "end_time": "2025-04-16T01:38:41.163008",
     "exception": false,
     "start_time": "2025-04-16T01:38:41.131923",
     "status": "completed"
    },
    "tags": []
   },
   "outputs": [
    {
     "data": {
      "text/plain": [
       "PassengerId    0\n",
       "Survived       0\n",
       "Pclass         0\n",
       "Name           0\n",
       "Sex            0\n",
       "Age            0\n",
       "SibSp          0\n",
       "Parch          0\n",
       "Ticket         0\n",
       "Fare           0\n",
       "Embarked       0\n",
       "Title          0\n",
       "FamilySize     0\n",
       "IsAlone        0\n",
       "CabinLetter    0\n",
       "dtype: int64"
      ]
     },
     "execution_count": 23,
     "metadata": {},
     "output_type": "execute_result"
    }
   ],
   "source": [
    "# Drop the 'Cabin' and 'Embarked' columns\n",
    "train_fe = train_fe.drop(columns=['Cabin'])\n",
    "\n",
    "# Drop rows where Age is missing\n",
    "train_fe = train_fe.dropna(subset=['Age', 'Embarked'])\n",
    "\n",
    "train_fe.isna().sum()"
   ]
  },
  {
   "cell_type": "code",
   "execution_count": 24,
   "id": "f50bf67d",
   "metadata": {
    "execution": {
     "iopub.execute_input": "2025-04-16T01:38:41.196912Z",
     "iopub.status.busy": "2025-04-16T01:38:41.196224Z",
     "iopub.status.idle": "2025-04-16T01:38:52.053934Z",
     "shell.execute_reply": "2025-04-16T01:38:52.053130Z"
    },
    "papermill": {
     "duration": 10.876828,
     "end_time": "2025-04-16T01:38:52.056028",
     "exception": false,
     "start_time": "2025-04-16T01:38:41.179200",
     "status": "completed"
    },
    "tags": []
   },
   "outputs": [
    {
     "name": "stdout",
     "output_type": "stream",
     "text": [
      "🔗 Stacking Ensemble Accuracy: 0.7972\n"
     ]
    }
   ],
   "source": [
    "# Define the meta-model with more iterations\n",
    "meta_model = LogisticRegression(max_iter=1000)\n",
    "\n",
    "# ✅ Features and target\n",
    "X = train_fe[features]\n",
    "y = train_fe['Survived']\n",
    "\n",
    "# ✅ Train/validation split\n",
    "X_train, X_val, y_train, y_val = train_test_split(X, y, test_size=0.2, random_state=42)\n",
    "\n",
    "# ✅ Build the stack\n",
    "stack = StackingClassifier(\n",
    "    estimators=[\n",
    "        ('xgb', XGBClassifier(\n",
    "            n_estimators=500,\n",
    "            learning_rate=0.01,\n",
    "            max_depth=6,\n",
    "            subsample=1.0,\n",
    "            colsample_bytree=1.0,\n",
    "            use_label_encoder=False,\n",
    "            eval_metric='logloss',\n",
    "            random_state=42\n",
    "        )),\n",
    "        ('rf', RandomForestClassifier(\n",
    "            n_estimators=500,\n",
    "            max_depth=6,\n",
    "            random_state=42\n",
    "        )),\n",
    "        ('hgb', HistGradientBoostingClassifier(\n",
    "            max_iter=300,\n",
    "            learning_rate=0.05,\n",
    "            max_depth=8,\n",
    "            l2_regularization=5.0,\n",
    "            early_stopping=False,\n",
    "            random_state=42\n",
    "        ))\n",
    "    ],\n",
    "    final_estimator=meta_model,\n",
    "    passthrough=True\n",
    ")\n",
    "\n",
    "# ✅ Fit the stack\n",
    "stack.fit(X_train, y_train)\n",
    "\n",
    "# ✅ Predict and evaluate\n",
    "y_pred_stack = stack.predict(X_val)\n",
    "print(\"🔗 Stacking Ensemble Accuracy:\", round(accuracy_score(y_val, y_pred_stack), 4))"
   ]
  },
  {
   "cell_type": "code",
   "execution_count": 25,
   "id": "e9d19a58",
   "metadata": {
    "execution": {
     "iopub.execute_input": "2025-04-16T01:38:52.092030Z",
     "iopub.status.busy": "2025-04-16T01:38:52.091694Z",
     "iopub.status.idle": "2025-04-16T01:38:58.051368Z",
     "shell.execute_reply": "2025-04-16T01:38:58.050646Z"
    },
    "papermill": {
     "duration": 5.978963,
     "end_time": "2025-04-16T01:38:58.053176",
     "exception": false,
     "start_time": "2025-04-16T01:38:52.074213",
     "status": "completed"
    },
    "tags": []
   },
   "outputs": [
    {
     "name": "stdout",
     "output_type": "stream",
     "text": [
      "📊 Stacking Ensemble Accuracy: 0.8112\n"
     ]
    }
   ],
   "source": [
    "# ✅ Split the data\n",
    "X = train_fe[features]\n",
    "y = train_fe['Survived']\n",
    "\n",
    "X_train, X_val, y_train, y_val = train_test_split(X, y, test_size=0.2, random_state=42)\n",
    "\n",
    "# ✅ Define base models with optimized hyperparameters\n",
    "xgb_model = XGBClassifier(\n",
    "    n_estimators=500,\n",
    "    max_depth=6,\n",
    "    learning_rate=0.01,\n",
    "    subsample=1.0,\n",
    "    colsample_bytree=1.0,\n",
    "    use_label_encoder=False,\n",
    "    eval_metric='logloss',\n",
    "    random_state=42\n",
    ")\n",
    "\n",
    "rf_model = RandomForestClassifier(\n",
    "    n_estimators=100,\n",
    "    max_depth=8,\n",
    "    min_samples_split=5,\n",
    "    min_samples_leaf=2,\n",
    "    random_state=42\n",
    ")\n",
    "\n",
    "hgb_model = HistGradientBoostingClassifier(\n",
    "    learning_rate=0.1,\n",
    "    max_depth=4,\n",
    "    max_iter=300,\n",
    "    l2_regularization=1.0,\n",
    "    early_stopping=False,\n",
    "    random_state=42\n",
    ")\n",
    "\n",
    "# ✅ Final meta-model (can also experiment with stronger models here)\n",
    "meta_model = LogisticRegression(max_iter=1000)\n",
    "\n",
    "# ✅ Build stacking ensemble\n",
    "stack = StackingClassifier(\n",
    "    estimators=[\n",
    "        ('xgb', xgb_model),\n",
    "        ('rf', rf_model),\n",
    "        ('hgb', hgb_model)\n",
    "    ],\n",
    "    final_estimator=meta_model,\n",
    "    passthrough=True\n",
    ")\n",
    "\n",
    "# ✅ Fit and evaluate\n",
    "stack.fit(X_train, y_train)\n",
    "y_pred_stack = stack.predict(X_val)\n",
    "\n",
    "print(\"📊 Stacking Ensemble Accuracy:\", round(accuracy_score(y_val, y_pred_stack), 4))"
   ]
  },
  {
   "cell_type": "markdown",
   "id": "021f0892",
   "metadata": {
    "papermill": {
     "duration": 0.01665,
     "end_time": "2025-04-16T01:38:58.089897",
     "exception": false,
     "start_time": "2025-04-16T01:38:58.073247",
     "status": "completed"
    },
    "tags": []
   },
   "source": [
    " not the result i was expecting from the stocking model of 81% which is no better than the 80-82% i got with the xgb and hgb (optimised). the reasons the stackign may not have improved the accuracy may be because the base models where already optimied and the dataset for titanic is quite small (800)# "
   ]
  },
  {
   "cell_type": "markdown",
   "id": "ca996600",
   "metadata": {
    "papermill": {
     "duration": 0.01611,
     "end_time": "2025-04-16T01:38:58.122304",
     "exception": false,
     "start_time": "2025-04-16T01:38:58.106194",
     "status": "completed"
    },
    "tags": []
   },
   "source": [
    "# Cleaning test set and matching formating to train set"
   ]
  },
  {
   "cell_type": "code",
   "execution_count": 26,
   "id": "887e3dd8",
   "metadata": {
    "execution": {
     "iopub.execute_input": "2025-04-16T01:38:58.157048Z",
     "iopub.status.busy": "2025-04-16T01:38:58.156702Z",
     "iopub.status.idle": "2025-04-16T01:38:58.177150Z",
     "shell.execute_reply": "2025-04-16T01:38:58.176261Z"
    },
    "papermill": {
     "duration": 0.040309,
     "end_time": "2025-04-16T01:38:58.179028",
     "exception": false,
     "start_time": "2025-04-16T01:38:58.138719",
     "status": "completed"
    },
    "tags": []
   },
   "outputs": [],
   "source": [
    "train = pd.read_csv('/kaggle/input/titanic/train.csv')\n",
    "test = pd.read_csv('/kaggle/input/titanic/test.csv')"
   ]
  },
  {
   "cell_type": "code",
   "execution_count": 27,
   "id": "03b18285",
   "metadata": {
    "execution": {
     "iopub.execute_input": "2025-04-16T01:38:58.213713Z",
     "iopub.status.busy": "2025-04-16T01:38:58.212812Z",
     "iopub.status.idle": "2025-04-16T01:38:58.248018Z",
     "shell.execute_reply": "2025-04-16T01:38:58.246836Z"
    },
    "papermill": {
     "duration": 0.054488,
     "end_time": "2025-04-16T01:38:58.249857",
     "exception": false,
     "start_time": "2025-04-16T01:38:58.195369",
     "status": "completed"
    },
    "tags": []
   },
   "outputs": [
    {
     "name": "stdout",
     "output_type": "stream",
     "text": [
      "🔹 Train Data:\n",
      "   PassengerId  Survived  Pclass  Sex   Age     Fare  Title  FamilySize  \\\n",
      "0            1         0       3    0  22.0   7.2500      2           2   \n",
      "1            2         1       1    1  38.0  71.2833      3           2   \n",
      "2            3         1       3    1  26.0   7.9250      1           1   \n",
      "3            4         1       1    1  35.0  53.1000      3           2   \n",
      "4            5         0       3    0  35.0   8.0500      2           1   \n",
      "\n",
      "   IsAlone  CabinLetter  \n",
      "0        0            8  \n",
      "1        0            2  \n",
      "2        1            8  \n",
      "3        0            2  \n",
      "4        1            8  \n",
      "\n",
      "🔹 Test Data:\n",
      "   PassengerId  Pclass  Sex   Age     Fare  Title  FamilySize  IsAlone  \\\n",
      "0          892       3    0  34.5   7.8292      2           1        1   \n",
      "1          893       3    1  47.0   7.0000      3           2        0   \n",
      "2          894       2    0  62.0   9.6875      2           1        1   \n",
      "3          895       3    0  27.0   8.6625      2           1        1   \n",
      "4          896       3    1  22.0  12.2875      3           3        0   \n",
      "\n",
      "   CabinLetter  \n",
      "0            8  \n",
      "1            8  \n",
      "2            8  \n",
      "3            8  \n",
      "4            8  \n"
     ]
    }
   ],
   "source": [
    "#  1. Convert 'Sex' from string to numeric\n",
    "for df in [train, test]:\n",
    "    df['Sex'] = df['Sex'].map({'male': 0, 'female': 1})\n",
    "\n",
    "#  2. Extract Title and normalize uncommon titles\n",
    "for df in [train, test]:\n",
    "    df['Title'] = df['Name'].str.extract(' ([A-Za-z]+)\\.', expand=False)\n",
    "    df['Title'] = df['Title'].replace(\n",
    "        ['Lady', 'Countess', 'Capt', 'Col', 'Don', 'Dr', 'Major', 'Rev',\n",
    "         'Sir', 'Jonkheer', 'Dona'], 'Rare'\n",
    "    )\n",
    "    df['Title'] = df['Title'].replace({'Mlle': 'Miss', 'Ms': 'Miss', 'Mme': 'Mrs'})\n",
    "\n",
    "#  3. Encode Title consistently across train and test\n",
    "le_title = LabelEncoder()\n",
    "combined_titles = pd.concat([train['Title'], test['Title']])\n",
    "le_title.fit(combined_titles.astype(str))\n",
    "train['Title'] = le_title.transform(train['Title'].astype(str))\n",
    "test['Title'] = le_title.transform(test['Title'].astype(str))\n",
    "\n",
    "#  4. Create FamilySize and IsAlone\n",
    "for df in [train, test]:\n",
    "    df['FamilySize'] = df['SibSp'] + df['Parch'] + 1\n",
    "    df['IsAlone'] = (df['FamilySize'] == 1).astype(int)\n",
    "\n",
    "#  5. Extract CabinLetter and encode it\n",
    "train['CabinLetter'] = train['Cabin'].fillna('U').astype(str).str[0]\n",
    "test['CabinLetter'] = test['Cabin'].fillna('U').astype(str).str[0]\n",
    "\n",
    "# Ensure all values are strings\n",
    "train['CabinLetter'] = train['CabinLetter'].astype(str)\n",
    "test['CabinLetter'] = test['CabinLetter'].astype(str)\n",
    "\n",
    "# Encode CabinLetter consistently\n",
    "combined_cabin = pd.concat([train['CabinLetter'], test['CabinLetter']])\n",
    "le_cabin = LabelEncoder()\n",
    "le_cabin.fit(combined_cabin)\n",
    "\n",
    "train['CabinLetter'] = le_cabin.transform(train['CabinLetter'])\n",
    "test['CabinLetter'] = le_cabin.transform(test['CabinLetter'])\n",
    "\n",
    "#  6. Drop unused columns from both datasets\n",
    "columns_to_drop = ['Embarked', 'Name', 'SibSp', 'Parch', 'Cabin', 'Ticket']\n",
    "train = train.drop(columns=columns_to_drop, errors='ignore')\n",
    "test = test.drop(columns=columns_to_drop, errors='ignore')\n",
    "\n",
    "print(\"🔹 Train Data:\")\n",
    "print(train.head())\n",
    "\n",
    "print(\"\\n🔹 Test Data:\")\n",
    "print(test.head())"
   ]
  },
  {
   "cell_type": "code",
   "execution_count": 28,
   "id": "7d58bc51",
   "metadata": {
    "execution": {
     "iopub.execute_input": "2025-04-16T01:38:58.284711Z",
     "iopub.status.busy": "2025-04-16T01:38:58.283732Z",
     "iopub.status.idle": "2025-04-16T01:38:58.298567Z",
     "shell.execute_reply": "2025-04-16T01:38:58.297388Z"
    },
    "papermill": {
     "duration": 0.033972,
     "end_time": "2025-04-16T01:38:58.300156",
     "exception": false,
     "start_time": "2025-04-16T01:38:58.266184",
     "status": "completed"
    },
    "tags": []
   },
   "outputs": [
    {
     "name": "stdout",
     "output_type": "stream",
     "text": [
      "✅ test rows: 418\n",
      "✅ X_test rows: 418\n",
      "Pclass         0\n",
      "Sex            0\n",
      "Age            0\n",
      "Fare           0\n",
      "Title          0\n",
      "FamilySize     0\n",
      "IsAlone        0\n",
      "CabinLetter    0\n",
      "dtype: int64\n",
      "✅ train rows: 891\n",
      "✅ X_train rows: 891\n",
      "Pclass         0\n",
      "Sex            0\n",
      "Age            0\n",
      "Fare           0\n",
      "Title          0\n",
      "FamilySize     0\n",
      "IsAlone        0\n",
      "CabinLetter    0\n",
      "dtype: int64\n"
     ]
    }
   ],
   "source": [
    "# Fill Age and Fare in train\n",
    "train['Age'] = train['Age'].fillna(train['Age'].mean())\n",
    "train['Fare'] = train['Fare'].fillna(train['Fare'].mean())\n",
    "\n",
    "# Fill Age and Fare in test\n",
    "test['Age'] = test['Age'].fillna(train['Age'].mean())  # use train mean for consistency\n",
    "test['Fare'] = test['Fare'].fillna(train['Fare'].mean())  # same here\n",
    "\n",
    "# Final optimized feature list (same as XGBoost)\n",
    "features = [\n",
    "    'Pclass',\n",
    "    'Sex',\n",
    "    'Age',\n",
    "    'Fare',\n",
    "    'Title',       # from Name\n",
    "    'FamilySize',  # from SibSp + Parch\n",
    "    \"IsAlone\",     # from family size\n",
    "    'CabinLetter'  # from Cabin\n",
    "]\n",
    "\n",
    "# use the full training set and test the test set\n",
    "X_train = train[features]\n",
    "y_train = train['Survived']\n",
    "X_test = test[features]  # `test_fe` should be your cleaned, feature-engineered test DataFrame\n",
    "\n",
    "\n",
    "print(\"✅ test rows:\", len(test))\n",
    "print(\"✅ X_test rows:\", len(X_test))\n",
    "print(X_test.isna().sum())\n",
    "print(\"✅ train rows:\", len(train))\n",
    "print(\"✅ X_train rows:\", len(X_train))\n",
    "print(X_train.isna().sum())"
   ]
  },
  {
   "cell_type": "code",
   "execution_count": 29,
   "id": "bd24e601",
   "metadata": {
    "execution": {
     "iopub.execute_input": "2025-04-16T01:38:58.335291Z",
     "iopub.status.busy": "2025-04-16T01:38:58.334993Z",
     "iopub.status.idle": "2025-04-16T01:38:59.081868Z",
     "shell.execute_reply": "2025-04-16T01:38:59.080981Z"
    },
    "papermill": {
     "duration": 0.766699,
     "end_time": "2025-04-16T01:38:59.083576",
     "exception": false,
     "start_time": "2025-04-16T01:38:58.316877",
     "status": "completed"
    },
    "tags": []
   },
   "outputs": [
    {
     "name": "stdout",
     "output_type": "stream",
     "text": [
      "Prediction count: 418\n"
     ]
    }
   ],
   "source": [
    "# Build and fit the optimized HGB model\n",
    "hgb_model = HistGradientBoostingClassifier(\n",
    "    learning_rate=0.05,\n",
    "    max_depth=8,\n",
    "    max_iter=300,\n",
    "    l2_regularization=5.0,\n",
    "    early_stopping=False,\n",
    "    random_state=42\n",
    ")\n",
    "\n",
    "hgb_model.fit(X_train, y_train)\n",
    "\n",
    "# Predict on validation set\n",
    "y_pred_hgb = hgb_model.predict(X_test)\n",
    "print(\"Prediction count:\", len(y_pred_hgb))\n"
   ]
  },
  {
   "cell_type": "code",
   "execution_count": 30,
   "id": "08a43355",
   "metadata": {
    "execution": {
     "iopub.execute_input": "2025-04-16T01:38:59.120583Z",
     "iopub.status.busy": "2025-04-16T01:38:59.120226Z",
     "iopub.status.idle": "2025-04-16T01:38:59.134744Z",
     "shell.execute_reply": "2025-04-16T01:38:59.133881Z"
    },
    "papermill": {
     "duration": 0.033346,
     "end_time": "2025-04-16T01:38:59.136124",
     "exception": false,
     "start_time": "2025-04-16T01:38:59.102778",
     "status": "completed"
    },
    "tags": []
   },
   "outputs": [
    {
     "data": {
      "text/html": [
       "<div>\n",
       "<style scoped>\n",
       "    .dataframe tbody tr th:only-of-type {\n",
       "        vertical-align: middle;\n",
       "    }\n",
       "\n",
       "    .dataframe tbody tr th {\n",
       "        vertical-align: top;\n",
       "    }\n",
       "\n",
       "    .dataframe thead th {\n",
       "        text-align: right;\n",
       "    }\n",
       "</style>\n",
       "<table border=\"1\" class=\"dataframe\">\n",
       "  <thead>\n",
       "    <tr style=\"text-align: right;\">\n",
       "      <th></th>\n",
       "      <th>PassengerId</th>\n",
       "      <th>Survived</th>\n",
       "    </tr>\n",
       "  </thead>\n",
       "  <tbody>\n",
       "    <tr>\n",
       "      <th>0</th>\n",
       "      <td>892</td>\n",
       "      <td>0</td>\n",
       "    </tr>\n",
       "    <tr>\n",
       "      <th>1</th>\n",
       "      <td>893</td>\n",
       "      <td>0</td>\n",
       "    </tr>\n",
       "    <tr>\n",
       "      <th>2</th>\n",
       "      <td>894</td>\n",
       "      <td>0</td>\n",
       "    </tr>\n",
       "    <tr>\n",
       "      <th>3</th>\n",
       "      <td>895</td>\n",
       "      <td>0</td>\n",
       "    </tr>\n",
       "    <tr>\n",
       "      <th>4</th>\n",
       "      <td>896</td>\n",
       "      <td>1</td>\n",
       "    </tr>\n",
       "  </tbody>\n",
       "</table>\n",
       "</div>"
      ],
      "text/plain": [
       "   PassengerId  Survived\n",
       "0          892         0\n",
       "1          893         0\n",
       "2          894         0\n",
       "3          895         0\n",
       "4          896         1"
      ]
     },
     "execution_count": 30,
     "metadata": {},
     "output_type": "execute_result"
    }
   ],
   "source": [
    "\n",
    "\n",
    "submission = pd.DataFrame({\n",
    "    'PassengerId': test['PassengerId'],\n",
    "    'Survived': y_pred_hgb\n",
    "})\n",
    "submission.to_csv('submission.csv', index=False)\n",
    "submission.head()"
   ]
  },
  {
   "cell_type": "code",
   "execution_count": 31,
   "id": "cbe2c13f",
   "metadata": {
    "execution": {
     "iopub.execute_input": "2025-04-16T01:38:59.170372Z",
     "iopub.status.busy": "2025-04-16T01:38:59.169989Z",
     "iopub.status.idle": "2025-04-16T01:38:59.186676Z",
     "shell.execute_reply": "2025-04-16T01:38:59.185505Z"
    },
    "papermill": {
     "duration": 0.035929,
     "end_time": "2025-04-16T01:38:59.188438",
     "exception": false,
     "start_time": "2025-04-16T01:38:59.152509",
     "status": "completed"
    },
    "tags": []
   },
   "outputs": [
    {
     "data": {
      "text/html": [
       "<div>\n",
       "<style scoped>\n",
       "    .dataframe tbody tr th:only-of-type {\n",
       "        vertical-align: middle;\n",
       "    }\n",
       "\n",
       "    .dataframe tbody tr th {\n",
       "        vertical-align: top;\n",
       "    }\n",
       "\n",
       "    .dataframe thead th {\n",
       "        text-align: right;\n",
       "    }\n",
       "</style>\n",
       "<table border=\"1\" class=\"dataframe\">\n",
       "  <thead>\n",
       "    <tr style=\"text-align: right;\">\n",
       "      <th></th>\n",
       "      <th>PassengerId</th>\n",
       "      <th>Pclass</th>\n",
       "      <th>Sex</th>\n",
       "      <th>Age</th>\n",
       "      <th>Fare</th>\n",
       "      <th>Title</th>\n",
       "      <th>FamilySize</th>\n",
       "      <th>IsAlone</th>\n",
       "      <th>CabinLetter</th>\n",
       "      <th>Survived</th>\n",
       "    </tr>\n",
       "  </thead>\n",
       "  <tbody>\n",
       "    <tr>\n",
       "      <th>0</th>\n",
       "      <td>892</td>\n",
       "      <td>3</td>\n",
       "      <td>0</td>\n",
       "      <td>34.5</td>\n",
       "      <td>7.8292</td>\n",
       "      <td>2</td>\n",
       "      <td>1</td>\n",
       "      <td>1</td>\n",
       "      <td>8</td>\n",
       "      <td>0</td>\n",
       "    </tr>\n",
       "    <tr>\n",
       "      <th>1</th>\n",
       "      <td>893</td>\n",
       "      <td>3</td>\n",
       "      <td>1</td>\n",
       "      <td>47.0</td>\n",
       "      <td>7.0000</td>\n",
       "      <td>3</td>\n",
       "      <td>2</td>\n",
       "      <td>0</td>\n",
       "      <td>8</td>\n",
       "      <td>0</td>\n",
       "    </tr>\n",
       "    <tr>\n",
       "      <th>2</th>\n",
       "      <td>894</td>\n",
       "      <td>2</td>\n",
       "      <td>0</td>\n",
       "      <td>62.0</td>\n",
       "      <td>9.6875</td>\n",
       "      <td>2</td>\n",
       "      <td>1</td>\n",
       "      <td>1</td>\n",
       "      <td>8</td>\n",
       "      <td>0</td>\n",
       "    </tr>\n",
       "    <tr>\n",
       "      <th>3</th>\n",
       "      <td>895</td>\n",
       "      <td>3</td>\n",
       "      <td>0</td>\n",
       "      <td>27.0</td>\n",
       "      <td>8.6625</td>\n",
       "      <td>2</td>\n",
       "      <td>1</td>\n",
       "      <td>1</td>\n",
       "      <td>8</td>\n",
       "      <td>0</td>\n",
       "    </tr>\n",
       "    <tr>\n",
       "      <th>4</th>\n",
       "      <td>896</td>\n",
       "      <td>3</td>\n",
       "      <td>1</td>\n",
       "      <td>22.0</td>\n",
       "      <td>12.2875</td>\n",
       "      <td>3</td>\n",
       "      <td>3</td>\n",
       "      <td>0</td>\n",
       "      <td>8</td>\n",
       "      <td>1</td>\n",
       "    </tr>\n",
       "  </tbody>\n",
       "</table>\n",
       "</div>"
      ],
      "text/plain": [
       "   PassengerId  Pclass  Sex   Age     Fare  Title  FamilySize  IsAlone  \\\n",
       "0          892       3    0  34.5   7.8292      2           1        1   \n",
       "1          893       3    1  47.0   7.0000      3           2        0   \n",
       "2          894       2    0  62.0   9.6875      2           1        1   \n",
       "3          895       3    0  27.0   8.6625      2           1        1   \n",
       "4          896       3    1  22.0  12.2875      3           3        0   \n",
       "\n",
       "   CabinLetter  Survived  \n",
       "0            8         0  \n",
       "1            8         0  \n",
       "2            8         0  \n",
       "3            8         0  \n",
       "4            8         1  "
      ]
     },
     "execution_count": 31,
     "metadata": {},
     "output_type": "execute_result"
    }
   ],
   "source": [
    "# Add Survived predictions to the test DataFrame\n",
    "test['Survived'] = y_pred_hgb\n",
    "\n",
    "# Save the full test data with predictions\n",
    "test.to_csv('test_data_outcome.csv', index=False)\n",
    "\n",
    "# Preview the result\n",
    "test.head()"
   ]
  }
 ],
 "metadata": {
  "kaggle": {
   "accelerator": "none",
   "dataSources": [
    {
     "databundleVersionId": 26502,
     "sourceId": 3136,
     "sourceType": "competition"
    },
    {
     "datasetId": 2490536,
     "sourceId": 4225501,
     "sourceType": "datasetVersion"
    }
   ],
   "dockerImageVersionId": 31012,
   "isGpuEnabled": false,
   "isInternetEnabled": true,
   "language": "python",
   "sourceType": "notebook"
  },
  "kernelspec": {
   "display_name": "Python 3",
   "language": "python",
   "name": "python3"
  },
  "language_info": {
   "codemirror_mode": {
    "name": "ipython",
    "version": 3
   },
   "file_extension": ".py",
   "mimetype": "text/x-python",
   "name": "python",
   "nbconvert_exporter": "python",
   "pygments_lexer": "ipython3",
   "version": "3.11.11"
  },
  "papermill": {
   "default_parameters": {},
   "duration": 36.655572,
   "end_time": "2025-04-16T01:39:00.026864",
   "environment_variables": {},
   "exception": null,
   "input_path": "__notebook__.ipynb",
   "output_path": "__notebook__.ipynb",
   "parameters": {},
   "start_time": "2025-04-16T01:38:23.371292",
   "version": "2.6.0"
  }
 },
 "nbformat": 4,
 "nbformat_minor": 5
}
